{
  "cells": [
    {
      "cell_type": "markdown",
      "metadata": {
        "id": "view-in-github",
        "colab_type": "text"
      },
      "source": [
        "<a href=\"https://colab.research.google.com/github/genkai10/Capstone_roughflow/blob/main/FallDetection.ipynb\" target=\"_parent\"><img src=\"https://colab.research.google.com/assets/colab-badge.svg\" alt=\"Open In Colab\"/></a>"
      ]
    },
    {
      "cell_type": "code",
      "execution_count": 1,
      "metadata": {
        "id": "eE6RqCgAJvK1"
      },
      "outputs": [],
      "source": [
        "import numpy as np\n",
        "import h5py\n",
        "from tensorflow.keras.utils import to_categorical\n",
        "from tensorflow.keras import layers\n",
        "from tensorflow.keras.models import Sequential\n",
        "from tensorflow.keras.initializers import Constant\n",
        "from tensorflow.keras.optimizers import Adam\n",
        "from tensorflow.keras.callbacks import EarlyStopping"
      ]
    },
    {
      "cell_type": "code",
      "execution_count": 2,
      "metadata": {
        "colab": {
          "base_uri": "https://localhost:8080/"
        },
        "id": "PwUIq_qZX1zH",
        "outputId": "9fa105ae-0313-4aff-d1bf-61668b7019fb"
      },
      "outputs": [
        {
          "output_type": "stream",
          "name": "stdout",
          "text": [
            "Drive already mounted at /content/drive; to attempt to forcibly remount, call drive.mount(\"/content/drive\", force_remount=True).\n"
          ]
        }
      ],
      "source": [
        "from google.colab import drive\n",
        "drive.mount('/content/drive')"
      ]
    },
    {
      "cell_type": "code",
      "execution_count": 4,
      "metadata": {
        "colab": {
          "base_uri": "https://localhost:8080/"
        },
        "id": "e0IddEUgKnMj",
        "outputId": "fe1bee5b-6fc5-48ab-c558-b755667b3280"
      },
      "outputs": [
        {
          "output_type": "stream",
          "name": "stdout",
          "text": [
            "Drive already mounted at /content/drive; to attempt to forcibly remount, call drive.mount(\"/content/drive\", force_remount=True).\n"
          ]
        }
      ],
      "source": [
        "import os\n",
        "import cv2\n",
        "import numpy as np\n",
        "from sklearn.model_selection import train_test_split\n",
        "from google.colab import drive\n",
        "from sklearn.preprocessing import LabelEncoder\n",
        "from keras.models import Sequential\n",
        "from keras.layers import Conv2D, MaxPooling2D, Flatten, Dense\n",
        "\n",
        "drive.mount('/content/drive')\n",
        "\n",
        "# Function to extract features from video frames\n",
        "def extract_features_from_video(video_path, target_size=(64, 64)):\n",
        "    cap = cv2.VideoCapture(video_path)\n",
        "    features = []\n",
        "    while True:\n",
        "        ret, frame = cap.read()\n",
        "        if not ret:\n",
        "            break\n",
        "        # Resize frame\n",
        "        frame = cv2.resize(frame, target_size)\n",
        "        # Normalize pixel values\n",
        "        frame = frame / 255.0\n",
        "        features.append(frame)\n",
        "    cap.release()\n",
        "    return features\n",
        "\n",
        "# Function to load dataset\n",
        "def load_dataset(data_dir, max_frames=100):\n",
        "    X = []\n",
        "    y = []\n",
        "    for class_name in os.listdir(data_dir):\n",
        "        class_dir = os.path.join(data_dir, class_name)\n",
        "        if os.path.isdir(class_dir):\n",
        "            for video_file in os.listdir(class_dir):\n",
        "                if video_file.endswith('.mp4'):  # Assuming videos are in .mp4 format\n",
        "                    video_path = os.path.join(class_dir, video_file)\n",
        "                    features = extract_features_from_video(video_path)\n",
        "                    # Pad or truncate the sequences to max_frames\n",
        "                    if len(features) < max_frames:\n",
        "                        features.extend([np.zeros_like(features[0])] * (max_frames - len(features)))\n",
        "                    elif len(features) > max_frames:\n",
        "                        features = features[:max_frames]\n",
        "                    X.append(features)\n",
        "                    y.append(class_name)\n",
        "    return np.array(X), np.array(y)\n",
        "\n",
        "# Navigate to the directory containing the dataset\n",
        "os.chdir(\"/content/drive/MyDrive/Capstone/URFD\")\n",
        "\n",
        "# Load dataset\n",
        "X, y = load_dataset(\"/content/drive/MyDrive/Capstone/URFD\")"
      ]
    },
    {
      "cell_type": "code",
      "execution_count": 5,
      "metadata": {
        "id": "qCDfAGAhYr14"
      },
      "outputs": [],
      "source": [
        "label_encoder = LabelEncoder()\n",
        "y = label_encoder.fit_transform(y)\n",
        "\n",
        "# Split dataset into train and test sets\n",
        "X_train, X_test, y_train, y_test = train_test_split(X, y, test_size=0.2, random_state=42)"
      ]
    },
    {
      "cell_type": "code",
      "execution_count": 6,
      "metadata": {
        "colab": {
          "base_uri": "https://localhost:8080/"
        },
        "id": "AyWeMDFJKOXs",
        "outputId": "262b350d-f634-46e5-83cf-a9076001bbd5"
      },
      "outputs": [
        {
          "output_type": "stream",
          "name": "stdout",
          "text": [
            "Model: \"sequential\"\n",
            "_________________________________________________________________\n",
            " Layer (type)                Output Shape              Param #   \n",
            "=================================================================\n",
            " conv3d (Conv3D)             (None, 98, 62, 62, 32)    2624      \n",
            "                                                                 \n",
            " conv3d_1 (Conv3D)           (None, 96, 60, 60, 32)    27680     \n",
            "                                                                 \n",
            " max_pooling3d (MaxPooling3  (None, 48, 30, 30, 32)    0         \n",
            " D)                                                              \n",
            "                                                                 \n",
            " conv3d_2 (Conv3D)           (None, 46, 28, 28, 64)    55360     \n",
            "                                                                 \n",
            " conv3d_3 (Conv3D)           (None, 45, 27, 27, 64)    32832     \n",
            "                                                                 \n",
            " max_pooling3d_1 (MaxPoolin  (None, 22, 13, 13, 64)    0         \n",
            " g3D)                                                            \n",
            "                                                                 \n",
            " dropout (Dropout)           (None, 22, 13, 13, 64)    0         \n",
            "                                                                 \n",
            " flatten (Flatten)           (None, 237952)            0         \n",
            "                                                                 \n",
            " dense (Dense)               (None, 256)               60915968  \n",
            "                                                                 \n",
            " dropout_1 (Dropout)         (None, 256)               0         \n",
            "                                                                 \n",
            " dense_1 (Dense)             (None, 128)               32896     \n",
            "                                                                 \n",
            " dropout_2 (Dropout)         (None, 128)               0         \n",
            "                                                                 \n",
            " dense_2 (Dense)             (None, 1)                 129       \n",
            "                                                                 \n",
            "=================================================================\n",
            "Total params: 61067489 (232.95 MB)\n",
            "Trainable params: 61067489 (232.95 MB)\n",
            "Non-trainable params: 0 (0.00 Byte)\n",
            "_________________________________________________________________\n"
          ]
        }
      ],
      "source": [
        "model = Sequential()\n",
        "model.add(layers.Conv3D(32, (3, 3, 3), activation='relu', input_shape=(100, 64, 64, 3), bias_initializer=Constant(0.01)))\n",
        "model.add(layers.Conv3D(32, (3, 3, 3), activation='relu', bias_initializer=Constant(0.01)))\n",
        "model.add(layers.MaxPooling3D((2, 2, 2)))\n",
        "model.add(layers.Conv3D(64, (3, 3, 3), activation='relu'))\n",
        "model.add(layers.Conv3D(64, (2, 2, 2), activation='relu'))\n",
        "model.add(layers.MaxPooling3D((2, 2, 2)))\n",
        "model.add(layers.Dropout(0.6))\n",
        "model.add(layers.Flatten())\n",
        "model.add(layers.Dense(256, 'relu'))\n",
        "model.add(layers.Dropout(0.7))\n",
        "model.add(layers.Dense(128, 'relu'))\n",
        "model.add(layers.Dropout(0.5))\n",
        "#model.add(layers.Dense(10, 'softmax'))\n",
        "model.add(layers.Dense(1, activation='sigmoid'))\n",
        "\n",
        "model.summary()\n"
      ]
    },
    {
      "cell_type": "code",
      "execution_count": 7,
      "metadata": {
        "colab": {
          "base_uri": "https://localhost:8080/"
        },
        "id": "Me2pEHmiKS1c",
        "outputId": "8bb2b6d6-5427-47e6-cc86-cb61b6d9f216"
      },
      "outputs": [
        {
          "output_type": "stream",
          "name": "stdout",
          "text": [
            "Epoch 1/10\n",
            "2/2 [==============================] - 134s 62s/step - loss: 1.6553 - accuracy: 0.4643 - val_loss: 1.1810 - val_accuracy: 0.2857\n",
            "Epoch 2/10\n",
            "2/2 [==============================] - 132s 62s/step - loss: 1.1052 - accuracy: 0.5714 - val_loss: 0.5786 - val_accuracy: 0.8571\n",
            "Epoch 3/10\n",
            "2/2 [==============================] - 132s 62s/step - loss: 0.6674 - accuracy: 0.6607 - val_loss: 0.6301 - val_accuracy: 0.8571\n",
            "Epoch 4/10\n",
            "2/2 [==============================] - 132s 62s/step - loss: 0.6220 - accuracy: 0.6429 - val_loss: 0.6335 - val_accuracy: 0.6429\n",
            "Epoch 5/10\n",
            "2/2 [==============================] - 133s 62s/step - loss: 0.6061 - accuracy: 0.6607 - val_loss: 0.5461 - val_accuracy: 0.9286\n",
            "Epoch 6/10\n",
            "2/2 [==============================] - 132s 62s/step - loss: 0.6056 - accuracy: 0.7321 - val_loss: 0.4541 - val_accuracy: 1.0000\n",
            "Epoch 7/10\n",
            "2/2 [==============================] - 132s 61s/step - loss: 0.6607 - accuracy: 0.6071 - val_loss: 0.4715 - val_accuracy: 1.0000\n",
            "Epoch 8/10\n",
            "2/2 [==============================] - 132s 61s/step - loss: 0.5194 - accuracy: 0.8750 - val_loss: 0.4550 - val_accuracy: 0.8571\n",
            "Epoch 9/10\n",
            "2/2 [==============================] - 132s 61s/step - loss: 0.4495 - accuracy: 0.8393 - val_loss: 0.2816 - val_accuracy: 0.8571\n",
            "Epoch 10/10\n",
            "2/2 [==============================] - 132s 61s/step - loss: 0.3718 - accuracy: 0.7857 - val_loss: 0.0947 - val_accuracy: 1.0000\n",
            "2/2 [==============================] - 33s 14s/step - loss: 0.1093 - accuracy: 1.0000\n",
            "training accuracy: 100.0%\n",
            "1/1 [==============================] - 8s 8s/step - loss: 0.0947 - accuracy: 1.0000\n",
            "testing accuracy: 100.0%\n"
          ]
        }
      ],
      "source": [
        "model.compile(Adam(0.001), 'binary_crossentropy', ['accuracy'])\n",
        "model.fit(X_train,y_train,epochs=10,batch_size=32,verbose=1,validation_data=(X_test,y_test),callbacks=[EarlyStopping(patience=15)])\n",
        "#Testing the 3D-CNN\n",
        "_, acc = model.evaluate(X_train, y_train)\n",
        "print('training accuracy:', str(round(acc*100, 2))+'%')\n",
        "_, acc = model.evaluate(X_test, y_test)\n",
        "print('testing accuracy:', str(round(acc*100, 2))+'%')"
      ]
    },
    {
      "cell_type": "code",
      "execution_count": null,
      "metadata": {
        "id": "mGyGDGjEKW8x"
      },
      "outputs": [],
      "source": []
    }
  ],
  "metadata": {
    "colab": {
      "provenance": [],
      "mount_file_id": "1hvFFTPnyJKeg_-BmSh1QSXKixkyWuwmk",
      "authorship_tag": "ABX9TyO+Vy97x6r0AZUGKm3Qd4J4",
      "include_colab_link": true
    },
    "kernelspec": {
      "display_name": "Python 3",
      "name": "python3"
    },
    "language_info": {
      "name": "python"
    }
  },
  "nbformat": 4,
  "nbformat_minor": 0
}